{
 "cells": [
  {
   "cell_type": "code",
   "execution_count": 7,
   "metadata": {},
   "outputs": [],
   "source": [
    "import pandas as pd\n",
    "import numpy as np\n",
    "from sklearn.linear_model import LogisticRegression\n",
    "from sklearn.model_selection import train_test_split\n",
    "from sklearn.preprocessing import StandardScaler"
   ]
  },
  {
   "cell_type": "code",
   "execution_count": 8,
   "metadata": {},
   "outputs": [],
   "source": [
    "df = pd.read_csv(\"D:\\IBM_Employee_Attrition.csv\")\n",
    "\n",
    "df[\"Attrition\"] = df.apply(lambda row: 1 if row[\"Attrition\"] == \"Yes\" else 0, axis=1)\n",
    "df[\"BusinessTravel\"] = df.apply(lambda row:1 if row[\"BusinessTravel\"] == \"Travel_Frequently\" \\\n",
    "                                else 0, axis=1)\n",
    "df[\"Department_Sales\"] = df.apply(lambda row:1 if row[\"Department\"] == \"Sales\" else 0, axis=1)\n",
    "df[\"Department_RD\"] = df.apply(lambda row:1 if row[\"Department\"] == \"Research & Development\" \\\n",
    "                               else 0, axis=1)\n",
    "df[\"Education\"] = df.apply(lambda row: 1 if row[\"Education\"] >= 3 else 0, axis=1)\n",
    "df[\"EducationField\"] = df.apply(lambda row: 1 if row[\"EducationField\"] == \"Life Sciences\" \\\n",
    "                                or row[\"EducationField\"] == \"Medical\" \\\n",
    "                                or row[\"EducationField\"] == \"Technical Degree\" else 0, axis = 1)\n",
    "df[\"Gender\"] = df.apply(lambda row: 1 if row[\"Gender\"] == \"Male\" else 0, axis=1)\n",
    "df[\"JobInvolvement\"] = df.apply(lambda row: 1 if row[\"JobInvolvement\"] >= 3 else 0, axis=1)\n",
    "df[\"JobLevel\"] = df.apply(lambda row: 1 if row[\"JobLevel\"] >= 3 else 0, axis=1)\n",
    "df[\"JobRole\"] = df.apply(lambda row:1 if row[\"JobRole\"] == \"Laboratory Technician\" \\\n",
    "                         or row[\"JobRole\"] == \"Research Scientist\" else 0, axis=1)\n",
    "df[\"MaritalStatus\"] = df.apply(lambda row:1 if row[\"MaritalStatus\"] == \"Married\" else 0, axis=1)\n",
    "df[\"OverTime\"] = df.apply(lambda row:1 if row[\"OverTime\"] == \"Yes\" else 0, axis=1)\n",
    "df[\"StockOptionLevel\"] = df.apply(lambda row:1 if row[\"StockOptionLevel\"] != 0 else 0, axis=1)"
   ]
  },
  {
   "cell_type": "code",
   "execution_count": 9,
   "metadata": {},
   "outputs": [
    {
     "name": "stdout",
     "output_type": "stream",
     "text": [
      "   Age  BusinessTravel  Department_Sales  Department_RD  DistanceFromHome  \\\n",
      "0   41               0                 1              0                 1   \n",
      "1   49               1                 0              1                 8   \n",
      "2   37               0                 0              1                 2   \n",
      "\n",
      "   Education  EducationField  EnvironmentSatisfaction  Gender  JobInvolvement  \\\n",
      "0          0               1                        2       0               1   \n",
      "1          0               1                        3       1               0   \n",
      "2          0               0                        4       1               0   \n",
      "\n",
      "   ...  PerformanceRating  RelationshipSatisfaction  StockOptionLevel  \\\n",
      "0  ...                  3                         1                 0   \n",
      "1  ...                  4                         4                 1   \n",
      "2  ...                  3                         2                 0   \n",
      "\n",
      "   TotalWorkingYears  TrainingTimesLastYear  WorkLifeBalance  YearsAtCompany  \\\n",
      "0                  8                      0                1               6   \n",
      "1                 10                      3                3              10   \n",
      "2                  7                      3                3               0   \n",
      "\n",
      "   YearsInCurrentRole  YearsSinceLastPromotion  YearsWithCurrManager  \n",
      "0                   4                        0                     5  \n",
      "1                   7                        1                     7  \n",
      "2                   0                        0                     0  \n",
      "\n",
      "[3 rows x 28 columns]\n",
      "0    1\n",
      "1    0\n",
      "2    1\n",
      "Name: Attrition, dtype: int64\n"
     ]
    }
   ],
   "source": [
    "features = df[[\"Age\", \"BusinessTravel\", \"Department_Sales\", \"Department_RD\", \\\n",
    "               \"DistanceFromHome\", \"Education\", \"EducationField\", \"EnvironmentSatisfaction\", \\\n",
    "               \"Gender\", \"JobInvolvement\", \"JobLevel\", \"JobRole\", \"JobSatisfaction\", \\\n",
    "               \"MaritalStatus\", \"MonthlyIncome\", \"NumCompaniesWorked\", \"OverTime\", \\\n",
    "               \"PercentSalaryHike\", \"PerformanceRating\", \"RelationshipSatisfaction\", \\\n",
    "               \"StockOptionLevel\", \"TotalWorkingYears\", \"TrainingTimesLastYear\", \"WorkLifeBalance\", \\\n",
    "               \"YearsAtCompany\", \"YearsInCurrentRole\", \"YearsSinceLastPromotion\", \\\n",
    "               \"YearsWithCurrManager\"]]\n",
    "attrition = df[\"Attrition\"]\n",
    "print(features.head(3))\n",
    "print(attrition.iloc[:3])"
   ]
  },
  {
   "cell_type": "code",
   "execution_count": 10,
   "metadata": {},
   "outputs": [
    {
     "name": "stdout",
     "output_type": "stream",
     "text": [
      "[[-0.30157384  0.3909272   0.1715615  -0.51722404  0.29784888  0.04037221\n",
      "  -0.10193076 -0.46091497  0.07950266 -0.27880144  0.73481177  0.4646925\n",
      "  -0.36736596  0.04953749 -0.80740168  0.46660579  0.86897691 -0.04828101\n",
      "  -0.02460812 -0.25525894 -0.5968087  -0.77609821 -0.24614585 -0.21273811\n",
      "   0.75640439 -0.56080853  0.43735691 -0.43187875]]\n",
      "Score on training data: 0.8920\n",
      "Score on testing data: 0.8741\n"
     ]
    }
   ],
   "source": [
    "features_train, features_test, attrition_train, attrition_test = train_test_split(\n",
    "    features, attrition, train_size = 0.8, test_size = 0.2, random_state = 6)\n",
    "\n",
    "scaler = StandardScaler()\n",
    "features_train = scaler.fit_transform(features_train)\n",
    "features_test = scaler.transform(features_test)\n",
    "\n",
    "model = LogisticRegression()\n",
    "model.fit(features_train, attrition_train)\n",
    "\n",
    "print(model.coef_)\n",
    "print(\"Score on training data: {:.4f}\".format(model.score(features_train, attrition_train)))\n",
    "print(\"Score on testing data: {:.4f}\".format(model.score(features_test, attrition_test)))"
   ]
  },
  {
   "cell_type": "code",
   "execution_count": 11,
   "metadata": {},
   "outputs": [
    {
     "name": "stdout",
     "output_type": "stream",
     "text": [
      "[1 1 0 0]\n",
      "[[0.41917275 0.58082725]\n",
      " [0.2470677  0.7529323 ]\n",
      " [0.99821686 0.00178314]\n",
      " [0.99642046 0.00357954]]\n"
     ]
    }
   ],
   "source": [
    "Alan = np.array([24.0, 0.0, 0.0, 1.0, 10.0, 1.0, 1.0, 2.0, 1.0, 3.0, 1.0, 1.0, 4.0, 0.0, 2500.0, \\\n",
    "                 1.0, 1.0, 0.0, 2.0, 2.0, 0.0, 2.0, 0.0, 1.0, 1.0, 1.0, 0.0, 1.0])\n",
    "Ben = np.array([49.0, 1.0, 1.0, 0.0, 15.0, 1.0, 0.0, 4.0, 1.0, 3.0, 1.0, 1.0, 3.0, 0.0, 3500.0, \\\n",
    "                3.0, 1.0, 5.0, 2.0, 4.0, 0.0, 25.0, 2.0, 2.0, 15.0, 15.0, 8.0, 3.0])\n",
    "Chloe = np.array([60.0, 0.0, 0.0, 0.0, 8.0, 0.0, 0.0, 4.0, 0.0, 0.0, 0.0, 0.0, 4.0, 1.0, 4800.0, \\\n",
    "                  2.0, 1.0, 1.0, 3.0, 4.0, 0.0, 37.0, 3.0, 4.0, 30.0, 20.0, 10.0, 20.0])\n",
    "Denise = np.array([40.0, 1.0, 1.0, 0.0, 12.0, 1.0, 0.0, 4.0, 0.0, 1.0, 1.0, 0.0, 4.0, 1.0, 8000.0, \\\n",
    "                   0.0, 0.0, 10.0, 4.0, 3.0, 1.0, 18.0, 2.0, 2.0, 18.0, 9.0, 7.0, 3.0])\n",
    "sample_employees = np.array([Alan, Ben, Chloe, Denise])\n",
    "sample_employees = scaler.fit_transform(sample_employees)\n",
    "print(model.predict(sample_employees))\n",
    "print(model.predict_proba(sample_employees))"
   ]
  }
 ],
 "metadata": {
  "kernelspec": {
   "display_name": "Python 3",
   "language": "python",
   "name": "python3"
  },
  "language_info": {
   "codemirror_mode": {
    "name": "ipython",
    "version": 3
   },
   "file_extension": ".py",
   "mimetype": "text/x-python",
   "name": "python",
   "nbconvert_exporter": "python",
   "pygments_lexer": "ipython3",
   "version": "3.7.6"
  }
 },
 "nbformat": 4,
 "nbformat_minor": 4
}
