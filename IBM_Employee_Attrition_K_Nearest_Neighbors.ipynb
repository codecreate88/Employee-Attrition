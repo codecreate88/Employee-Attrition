{
 "cells": [
  {
   "cell_type": "code",
   "execution_count": 8,
   "metadata": {},
   "outputs": [],
   "source": [
    "import pandas as pd\n",
    "import numpy as np\n",
    "from sklearn.neighbors import KNeighborsClassifier\n",
    "from sklearn.model_selection import train_test_split\n",
    "from sklearn.preprocessing import StandardScaler\n",
    "from matplotlib import pyplot as plt"
   ]
  },
  {
   "cell_type": "code",
   "execution_count": 9,
   "metadata": {},
   "outputs": [
    {
     "name": "stdout",
     "output_type": "stream",
     "text": [
      "No. of employees who leave: 237\n",
      "No. of employees who stay: 1233\n"
     ]
    }
   ],
   "source": [
    "df = pd.read_csv(\"D:\\IBM_Employee_Attrition.csv\")\n",
    "print(\"No. of employees who leave: {}\".format(len(df[df[\"Attrition\"] == \"Yes\"])))\n",
    "print(\"No. of employees who stay: {}\".format(len(df[df[\"Attrition\"] == \"No\"])))\n",
    "\n",
    "df[\"Attrition\"] = df.apply(lambda row: 1 if row[\"Attrition\"] == \"Yes\" else 0, axis=1)\n",
    "df[\"BusinessTravel\"] = df.apply(lambda row:1 if row[\"BusinessTravel\"] == \"Travel_Frequently\" \\\n",
    "                                else 0, axis=1)\n",
    "df[\"Department_Sales\"] = df.apply(lambda row:1 if row[\"Department\"] == \"Sales\" else 0, axis=1)\n",
    "df[\"Department_RD\"] = df.apply(lambda row:1 if row[\"Department\"] == \"Research & Development\" \\\n",
    "                               else 0, axis=1)\n",
    "df[\"Education\"] = df.apply(lambda row: 1 if row[\"Education\"] >= 3 else 0, axis=1)\n",
    "df[\"EducationField\"] = df.apply(lambda row: 1 if row[\"EducationField\"] == \"Life Sciences\" \\\n",
    "                                or row[\"EducationField\"] == \"Medical\" \\\n",
    "                                or row[\"EducationField\"] == \"Technical Degree\" else 0, axis = 1)\n",
    "df[\"Gender\"] = df.apply(lambda row: 1 if row[\"Gender\"] == \"Male\" else 0, axis=1)\n",
    "df[\"JobInvolvement\"] = df.apply(lambda row: 1 if row[\"JobInvolvement\"] >= 3 else 0, axis=1)\n",
    "df[\"JobLevel\"] = df.apply(lambda row: 1 if row[\"JobLevel\"] >= 3 else 0, axis=1)\n",
    "df[\"JobRole\"] = df.apply(lambda row:1 if row[\"JobRole\"] == \"Laboratory Technician\" \\\n",
    "                         or row[\"JobRole\"] == \"Research Scientist\" else 0, axis=1)\n",
    "df[\"MaritalStatus\"] = df.apply(lambda row:1 if row[\"MaritalStatus\"] == \"Married\" else 0, axis=1)\n",
    "df[\"OverTime\"] = df.apply(lambda row:1 if row[\"OverTime\"] == \"Yes\" else 0, axis=1)\n",
    "df[\"StockOptionLevel\"] = df.apply(lambda row:1 if row[\"StockOptionLevel\"] != 0 else 0, axis=1)"
   ]
  },
  {
   "cell_type": "code",
   "execution_count": 10,
   "metadata": {},
   "outputs": [
    {
     "name": "stdout",
     "output_type": "stream",
     "text": [
      "   Age  BusinessTravel  Department_Sales  Department_RD  DistanceFromHome  \\\n",
      "0   41               0                 1              0                 1   \n",
      "1   49               1                 0              1                 8   \n",
      "2   37               0                 0              1                 2   \n",
      "3   33               1                 0              1                 3   \n",
      "4   27               0                 0              1                 2   \n",
      "\n",
      "   Education  EducationField  EnvironmentSatisfaction  Gender  JobInvolvement  \\\n",
      "0          0               1                        2       0               1   \n",
      "1          0               1                        3       1               0   \n",
      "2          0               0                        4       1               0   \n",
      "3          1               1                        4       0               1   \n",
      "4          0               1                        1       1               1   \n",
      "\n",
      "   ...  PerformanceRating  RelationshipSatisfaction  StockOptionLevel  \\\n",
      "0  ...                  3                         1                 0   \n",
      "1  ...                  4                         4                 1   \n",
      "2  ...                  3                         2                 0   \n",
      "3  ...                  3                         3                 0   \n",
      "4  ...                  3                         4                 1   \n",
      "\n",
      "   TotalWorkingYears  TrainingTimesLastYear  WorkLifeBalance  YearsAtCompany  \\\n",
      "0                  8                      0                1               6   \n",
      "1                 10                      3                3              10   \n",
      "2                  7                      3                3               0   \n",
      "3                  8                      3                3               8   \n",
      "4                  6                      3                3               2   \n",
      "\n",
      "   YearsInCurrentRole  YearsSinceLastPromotion  YearsWithCurrManager  \n",
      "0                   4                        0                     5  \n",
      "1                   7                        1                     7  \n",
      "2                   0                        0                     0  \n",
      "3                   7                        3                     0  \n",
      "4                   2                        2                     2  \n",
      "\n",
      "[5 rows x 28 columns]\n",
      "0    1\n",
      "1    0\n",
      "2    1\n",
      "3    0\n",
      "4    0\n",
      "Name: Attrition, dtype: int64\n"
     ]
    }
   ],
   "source": [
    "features = df[[\"Age\", \"BusinessTravel\", \"Department_Sales\", \"Department_RD\", \"DistanceFromHome\", \\\n",
    "               \"Education\", \"EducationField\", \"EnvironmentSatisfaction\", \"Gender\", \\\n",
    "               \"JobInvolvement\", \"JobLevel\", \"JobRole\", \"JobSatisfaction\", \"MaritalStatus\", \\\n",
    "               \"MonthlyIncome\", \"NumCompaniesWorked\", \"OverTime\", \"PercentSalaryHike\", \\\n",
    "               \"PerformanceRating\", \"RelationshipSatisfaction\", \"StockOptionLevel\", \\\n",
    "               \"TotalWorkingYears\", \"TrainingTimesLastYear\", \"WorkLifeBalance\", \"YearsAtCompany\", \\\n",
    "               \"YearsInCurrentRole\", \"YearsSinceLastPromotion\", \"YearsWithCurrManager\"]]\n",
    "attrition = df[\"Attrition\"]\n",
    "print(features.head())\n",
    "print(attrition.iloc[:5])"
   ]
  },
  {
   "cell_type": "code",
   "execution_count": 11,
   "metadata": {},
   "outputs": [
    {
     "data": {
      "image/png": "[encoded data removed]",
      "text/plain": [
       "<Figure size 1080x360 with 1 Axes>"
      ]
     },
     "metadata": {
      "needs_background": "light"
     },
     "output_type": "display_data"
    }
   ],
   "source": [
    "features_train, features_test, attrition_train, attrition_test = \\\n",
    "train_test_split(features, attrition, train_size = 0.8, test_size = 0.2, random_state = 6)\n",
    "\n",
    "scaler = StandardScaler()\n",
    "features_train = scaler.fit_transform(features_train)\n",
    "features_test = scaler.transform(features_test)\n",
    "\n",
    "accuracies = []\n",
    "for k in range(1,81):\n",
    "    classifier = KNeighborsClassifier(n_neighbors = k)\n",
    "    classifier.fit(features_train, attrition_train)\n",
    "    accuracies.append(classifier.score(features_test, attrition_test))\n",
    "\n",
    "k_list = range(1, 81)\n",
    "plt.figure(figsize=(15,5))\n",
    "plt.plot(k_list, accuracies)\n",
    "plt.xlabel(\"k\")\n",
    "plt.ylabel(\"Validation Accuracy\")\n",
    "plt.axvline(7, color=\"black\")\n",
    "plt.annotate(\"Optimal k value : 7\", xy=(8, 0.845), xytext=(15, 0.825), \\\n",
    "             arrowprops=dict(facecolor=\"black\", width=1, shrink=0.01))\n",
    "plt.title(\"Validation Accuracy for k values from 1 to 80\")\n",
    "plt.show()\n"
   ]
  },
  {
   "cell_type": "code",
   "execution_count": 12,
   "metadata": {},
   "outputs": [
    {
     "name": "stdout",
     "output_type": "stream",
     "text": [
      "Score on training data: 0.8631\n",
      "Score on testing data: 0.8571\n",
      "[0 0 0 0]\n",
      "[[0.71428571 0.28571429]\n",
      " [0.71428571 0.28571429]\n",
      " [0.85714286 0.14285714]\n",
      " [1.         0.        ]]\n"
     ]
    }
   ],
   "source": [
    "classifier = KNeighborsClassifier(n_neighbors = 7)\n",
    "classifier.fit(features_train, attrition_train)\n",
    "print(\"Score on training data: {:.4f}\".format(classifier.score(features_train, attrition_train)))\n",
    "print(\"Score on testing data: {:.4f}\".format(classifier.score(features_test, attrition_test)))\n",
    "\n",
    "Alan = np.array([24.0, 0.0, 0.0, 1.0, 10.0, 1.0, 1.0, 2.0, 1.0, 3.0, 1.0, 1.0, 4.0, 0.0, 2500.0, \\\n",
    "                 1.0, 1.0, 0.0, 2.0, 2.0, 0.0, 2.0, 0.0, 1.0, 1.0, 1.0, 0.0, 1.0])\n",
    "Ben = np.array([49.0, 1.0, 1.0, 0.0, 15.0, 1.0, 0.0, 4.0, 1.0, 3.0, 1.0, 1.0, 3.0, 0.0, 3500.0, \\\n",
    "                3.0, 1.0, 5.0, 2.0, 4.0, 0.0, 25.0, 2.0, 2.0, 15.0, 15.0, 8.0, 3.0])\n",
    "Chloe = np.array([60.0, 0.0, 0.0, 0.0, 8.0, 0.0, 0.0, 4.0, 0.0, 0.0, 0.0, 0.0, 4.0, 1.0, 4800.0, \\\n",
    "                  2.0, 1.0, 1.0, 3.0, 4.0, 0.0, 37.0, 3.0, 4.0, 30.0, 20.0, 10.0, 20.0])\n",
    "Denise = np.array([40.0, 1.0, 1.0, 0.0, 12.0, 1.0, 0.0, 4.0, 0.0, 1.0, 1.0, 0.0, 4.0, 1.0, 8000.0, \\\n",
    "                   0.0, 0.0, 10.0, 4.0, 3.0, 1.0, 18.0, 2.0, 2.0, 18.0, 9.0, 7.0, 3.0])\n",
    "sample_employees = np.array([Alan, Ben, Chloe, Denise])\n",
    "sample_employees = scaler.transform(sample_employees)\n",
    "print(classifier.predict(sample_employees))\n",
    "print(classifier.predict_proba(sample_employees))"
   ]
  }
 ],
 "metadata": {
  "kernelspec": {
   "display_name": "Python 3",
   "language": "python",
   "name": "python3"
  },
  "language_info": {
   "codemirror_mode": {
    "name": "ipython",
    "version": 3
   },
   "file_extension": ".py",
   "mimetype": "text/x-python",
   "name": "python",
   "nbconvert_exporter": "python",
   "pygments_lexer": "ipython3",
   "version": "3.7.6"
  }
 },
 "nbformat": 4,
 "nbformat_minor": 4
}
